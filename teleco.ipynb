{
 "cells": [
  {
   "cell_type": "code",
   "execution_count": 23,
   "metadata": {},
   "outputs": [],
   "source": [
    "from sklearn.metrics import (ConfusionMatrixDisplay,classification_report,confusion_matrix)\n",
    "from sklearn.model_selection import GridSearchCV, train_test_split,cross_val_score \n",
    "from sklearn.metrics import accuracy_score, precision_score, recall_score, f1_score\n",
    "from sklearn.ensemble import GradientBoostingClassifier\n",
    "from imblearn.over_sampling import RandomOverSampler\n",
    "from sklearn.linear_model import LogisticRegression\n",
    "from sklearn.preprocessing import LabelEncoder \n",
    "from sklearn.neighbors import KNeighborsClassifier\n",
    "from sklearn.ensemble import RandomForestClassifier\n",
    "from sklearn.impute import SimpleImputer \n",
    "from sklearn.pipeline import make_pipeline \n",
    "import matplotlib.pyplot as plt\n",
    "from sklearn.metrics import log_loss \n",
    "import seaborn as sns\n",
    "import matplotlib.pyplot as plt\n",
    "from scipy.io.arff import loadarff \n",
    "import xgboost as xgb\n",
    "import pickle\n",
    "import pandas as pd\n",
    "import numpy as np"
   ]
  },
  {
   "cell_type": "code",
   "execution_count": 13,
   "metadata": {},
   "outputs": [],
   "source": [
    "def read_data(file):\n",
    "    df = pd.read_csv(file)\n",
    "    return df\n",
    "    \n",
    "eng= read_data(r'C:\\Users\\mussie\\Music\\exam\\ML-exam-Preparation\\teleco_da\\Engagement_data.csv')\n",
    "exp = read_data(r'C:\\Users\\mussie\\Music\\exam\\ML-exam-Preparation\\teleco_da\\Experience_data.csv')\n",
    "fie = read_data(r'C:\\Users\\mussie\\Music\\exam\\ML-exam-Preparation\\teleco_da\\all_scores.csv')\n",
    "\n",
    "    "
   ]
  },
  {
   "cell_type": "code",
   "execution_count": 15,
   "metadata": {},
   "outputs": [
    {
     "data": {
      "text/html": [
       "<div>\n",
       "<style scoped>\n",
       "    .dataframe tbody tr th:only-of-type {\n",
       "        vertical-align: middle;\n",
       "    }\n",
       "\n",
       "    .dataframe tbody tr th {\n",
       "        vertical-align: top;\n",
       "    }\n",
       "\n",
       "    .dataframe thead th {\n",
       "        text-align: right;\n",
       "    }\n",
       "</style>\n",
       "<table border=\"1\" class=\"dataframe\">\n",
       "  <thead>\n",
       "    <tr style=\"text-align: right;\">\n",
       "      <th></th>\n",
       "      <th>MSISDN/Number</th>\n",
       "      <th>AVG_RTT</th>\n",
       "      <th>AVG_TP</th>\n",
       "      <th>TCP_Re</th>\n",
       "      <th>Handset Type</th>\n",
       "      <th>cluster</th>\n",
       "    </tr>\n",
       "  </thead>\n",
       "  <tbody>\n",
       "    <tr>\n",
       "      <th>0</th>\n",
       "      <td>3.360100e+10</td>\n",
       "      <td>46.000000</td>\n",
       "      <td>76.0</td>\n",
       "      <td>2.156957e+07</td>\n",
       "      <td>Huawei P20 Lite Huawei Nova 3E</td>\n",
       "      <td>0</td>\n",
       "    </tr>\n",
       "    <tr>\n",
       "      <th>1</th>\n",
       "      <td>3.360100e+10</td>\n",
       "      <td>31.000000</td>\n",
       "      <td>99.0</td>\n",
       "      <td>2.156957e+07</td>\n",
       "      <td>Apple iPhone 7 (A1778)</td>\n",
       "      <td>0</td>\n",
       "    </tr>\n",
       "    <tr>\n",
       "      <th>2</th>\n",
       "      <td>3.360100e+10</td>\n",
       "      <td>127.458589</td>\n",
       "      <td>97.0</td>\n",
       "      <td>2.156957e+07</td>\n",
       "      <td>undefined</td>\n",
       "      <td>0</td>\n",
       "    </tr>\n",
       "    <tr>\n",
       "      <th>3</th>\n",
       "      <td>3.360101e+10</td>\n",
       "      <td>84.000000</td>\n",
       "      <td>248.0</td>\n",
       "      <td>7.607247e+05</td>\n",
       "      <td>Apple iPhone 5S (A1457)</td>\n",
       "      <td>0</td>\n",
       "    </tr>\n",
       "  </tbody>\n",
       "</table>\n",
       "</div>"
      ],
      "text/plain": [
       "   MSISDN/Number     AVG_RTT  AVG_TP        TCP_Re  \\\n",
       "0   3.360100e+10   46.000000    76.0  2.156957e+07   \n",
       "1   3.360100e+10   31.000000    99.0  2.156957e+07   \n",
       "2   3.360100e+10  127.458589    97.0  2.156957e+07   \n",
       "3   3.360101e+10   84.000000   248.0  7.607247e+05   \n",
       "\n",
       "                     Handset Type  cluster  \n",
       "0  Huawei P20 Lite Huawei Nova 3E        0  \n",
       "1          Apple iPhone 7 (A1778)        0  \n",
       "2                       undefined        0  \n",
       "3         Apple iPhone 5S (A1457)        0  "
      ]
     },
     "execution_count": 15,
     "metadata": {},
     "output_type": "execute_result"
    }
   ],
   "source": [
    "\n",
    "exp.head(4)"
   ]
  },
  {
   "cell_type": "code",
   "execution_count": 18,
   "metadata": {},
   "outputs": [
    {
     "name": "stdout",
     "output_type": "stream",
     "text": [
      "MSISDN/Number  Handset Type                                    \n",
      "3.360100e+10   Huawei P20 Lite Huawei Nova 3E                      1\n",
      "               Apple iPhone 7 (A1778)                              1\n",
      "               undefined                                           1\n",
      "3.360101e+10   Apple iPhone 5S (A1457)                             1\n",
      "               Apple iPhone Se (A1723)                             1\n",
      "               Samsung Galaxy A8 (2018)                            1\n",
      "               Huawei Mate 10 Pro Porsche Design Huawei Mate 10    1\n",
      "               Samsung Galaxy S8 Plus (Sm-G955F)                   1\n",
      "               undefined                                           1\n",
      "3.360102e+10   Apple iPhone X (A1865)                              1\n",
      "Name: Handset Type, dtype: int64\n"
     ]
    }
   ],
   "source": [
    "# Assuming you have a DataFrame called 'df' with columns 'MSISDN/Number', 'Handset Type', and other columns\n",
    "top_10_handsets = exp.groupby('MSISDN/Number')['Handset Type'].value_counts().nlargest(10)\n",
    "\n",
    "print(top_10_handsets)"
   ]
  },
  {
   "cell_type": "code",
   "execution_count": 19,
   "metadata": {},
   "outputs": [
    {
     "name": "stdout",
     "output_type": "stream",
     "text": [
      "MSISDN/Number  Handset Type                      \n",
      "3.360100e+10   Huawei P20 Lite Huawei Nova 3E        1\n",
      "3.366914e+10   Apple iPhone 8 (A1905)                1\n",
      "3.366916e+10   Apple iPhone Xr (A2105)               1\n",
      "               Samsung Galaxy S8 Plus (Sm-G955Fd)    1\n",
      "               Samsung Galaxy J5 (Sm-J530)           1\n",
      "               Samsung Galaxy J5 (Sm-J530)           1\n",
      "               Huawei B528S-23A                      1\n",
      "               Samsung Galaxy J5 (Sm-J530)           1\n",
      "               Samsung Galaxy J5 (Sm-J530)           1\n",
      "               Samsung Xcover 3 (Sm-G388X)           1\n",
      "Name: Handset Type, dtype: int64\n"
     ]
    }
   ],
   "source": [
    "\n",
    "# Group by customers and count the occurrences of each handset type\n",
    "customer_handset_counts = exp.groupby('MSISDN/Number')['Handset Type'].value_counts().sort_values(ascending=False).head(10)"
   ]
  },
  {
   "cell_type": "code",
   "execution_count": 24,
   "metadata": {},
   "outputs": [
    {
     "name": "stderr",
     "output_type": "stream",
     "text": [
      "C:\\Users\\mussie\\AppData\\Local\\Temp\\ipykernel_13656\\1608980121.py:4: FutureWarning: The default value of numeric_only in DataFrame.corr is deprecated. In a future version, it will default to False. Select only valid columns or specify the value of numeric_only to silence this warning.\n",
      "  correlation_matrix = exp.corr()\n"
     ]
    },
    {
     "data": {
      "image/png": "[encoded data removed]",
      "text/plain": [
       "<Figure size 1000x800 with 2 Axes>"
      ]
     },
     "metadata": {},
     "output_type": "display_data"
    }
   ],
   "source": [
    "# Assuming you have a DataFrame called 'df' with multiple columns\n",
    "\n",
    "# Calculate the correlation matrix\n",
    "correlation_matrix = exp.corr()\n",
    "\n",
    "# Create a figure and axes\n",
    "fig, ax = plt.subplots(figsize=(10, 8))\n",
    "\n",
    "# Plot the correlation matrix as a heatmap\n",
    "sns.heatmap(correlation_matrix, annot=True, cmap='coolwarm', ax=ax)\n",
    "\n",
    "# Set the title\n",
    "ax.set_title('Correlation Matrix')\n",
    "\n",
    "# Show the plot\n",
    "plt.show()"
   ]
  },
  {
   "cell_type": "code",
   "execution_count": 28,
   "metadata": {},
   "outputs": [
    {
     "data": {
      "text/html": [
       "<div>\n",
       "<style scoped>\n",
       "    .dataframe tbody tr th:only-of-type {\n",
       "        vertical-align: middle;\n",
       "    }\n",
       "\n",
       "    .dataframe tbody tr th {\n",
       "        vertical-align: top;\n",
       "    }\n",
       "\n",
       "    .dataframe thead th {\n",
       "        text-align: right;\n",
       "    }\n",
       "</style>\n",
       "<table border=\"1\" class=\"dataframe\">\n",
       "  <thead>\n",
       "    <tr style=\"text-align: right;\">\n",
       "      <th></th>\n",
       "      <th>MSISDN/Number</th>\n",
       "      <th>AVG_RTT</th>\n",
       "      <th>AVG_TP</th>\n",
       "      <th>TCP_Re</th>\n",
       "      <th>Handset Type</th>\n",
       "      <th>cluster</th>\n",
       "    </tr>\n",
       "  </thead>\n",
       "  <tbody>\n",
       "    <tr>\n",
       "      <th>0</th>\n",
       "      <td>3.360100e+10</td>\n",
       "      <td>46.0</td>\n",
       "      <td>76.0</td>\n",
       "      <td>2.156957e+07</td>\n",
       "      <td>Huawei P20 Lite Huawei Nova 3E</td>\n",
       "      <td>0</td>\n",
       "    </tr>\n",
       "    <tr>\n",
       "      <th>1</th>\n",
       "      <td>3.360100e+10</td>\n",
       "      <td>31.0</td>\n",
       "      <td>99.0</td>\n",
       "      <td>2.156957e+07</td>\n",
       "      <td>Apple iPhone 7 (A1778)</td>\n",
       "      <td>0</td>\n",
       "    </tr>\n",
       "  </tbody>\n",
       "</table>\n",
       "</div>"
      ],
      "text/plain": [
       "   MSISDN/Number  AVG_RTT  AVG_TP        TCP_Re  \\\n",
       "0   3.360100e+10     46.0    76.0  2.156957e+07   \n",
       "1   3.360100e+10     31.0    99.0  2.156957e+07   \n",
       "\n",
       "                     Handset Type  cluster  \n",
       "0  Huawei P20 Lite Huawei Nova 3E        0  \n",
       "1          Apple iPhone 7 (A1778)        0  "
      ]
     },
     "execution_count": 28,
     "metadata": {},
     "output_type": "execute_result"
    }
   ],
   "source": [
    "exp.head(2)"
   ]
  },
  {
   "cell_type": "code",
   "execution_count": 29,
   "metadata": {},
   "outputs": [
    {
     "data": {
      "text/html": [
       "<div>\n",
       "<style scoped>\n",
       "    .dataframe tbody tr th:only-of-type {\n",
       "        vertical-align: middle;\n",
       "    }\n",
       "\n",
       "    .dataframe tbody tr th {\n",
       "        vertical-align: top;\n",
       "    }\n",
       "\n",
       "    .dataframe thead th {\n",
       "        text-align: right;\n",
       "    }\n",
       "</style>\n",
       "<table border=\"1\" class=\"dataframe\">\n",
       "  <thead>\n",
       "    <tr style=\"text-align: right;\">\n",
       "      <th></th>\n",
       "      <th>MSISDN/Number</th>\n",
       "      <th>Bearer Id</th>\n",
       "      <th>Dur. (ms)</th>\n",
       "      <th>Total</th>\n",
       "      <th>cluster</th>\n",
       "    </tr>\n",
       "  </thead>\n",
       "  <tbody>\n",
       "    <tr>\n",
       "      <th>0</th>\n",
       "      <td>3.360100e+10</td>\n",
       "      <td>1</td>\n",
       "      <td>116720</td>\n",
       "      <td>878.690574</td>\n",
       "      <td>0</td>\n",
       "    </tr>\n",
       "    <tr>\n",
       "      <th>1</th>\n",
       "      <td>3.360100e+10</td>\n",
       "      <td>1</td>\n",
       "      <td>181230</td>\n",
       "      <td>156.859643</td>\n",
       "      <td>0</td>\n",
       "    </tr>\n",
       "  </tbody>\n",
       "</table>\n",
       "</div>"
      ],
      "text/plain": [
       "   MSISDN/Number  Bearer Id  Dur. (ms)       Total  cluster\n",
       "0   3.360100e+10          1     116720  878.690574        0\n",
       "1   3.360100e+10          1     181230  156.859643        0"
      ]
     },
     "execution_count": 29,
     "metadata": {},
     "output_type": "execute_result"
    }
   ],
   "source": [
    "eng.head(2)"
   ]
  },
  {
   "attachments": {},
   "cell_type": "markdown",
   "metadata": {},
   "source": [
    "Utitlity function"
   ]
  },
  {
   "cell_type": "code",
   "execution_count": null,
   "metadata": {},
   "outputs": [],
   "source": [
    "\n",
    "#Create a histogram showing the distribution of apartment prices\n",
    "# Build histogram\n",
    "plt.hist(df[\"price_aprox_usd\"])\n",
    "# Label axes\n",
    "plt.xlabel(\"Price [$]\")\n",
    "plt.ylabel(\"Count\")\n",
    "# Add title\n",
    "plt.title('Distribution of Apartment')\n",
    "     "
   ]
  },
  {
   "cell_type": "code",
   "execution_count": null,
   "metadata": {},
   "outputs": [],
   "source": [
    "#Create a scatter plot that shows apartment price  as a function of apartment size\n",
    "# Build scatter plot\n",
    "plt.scatter(x = df['surface_covered_in_m2'], y=df['price_aprox_usd'])\n",
    "plt.ylabel('Price [USD]')\n",
    "plt.xlabel('Area [sq meters]')\n",
    "plt.title('Mexico City: Price vs. Area')"
   ]
  },
  {
   "cell_type": "code",
   "execution_count": null,
   "metadata": {},
   "outputs": [],
   "source": [
    "\n",
    "# Build Model\n",
    "model = make_pipeline(\n",
    "    OneHotEncoder(categories='auto',handle_unknown='ignore'), \n",
    "    SimpleImputer(),\n",
    "    Ridge()\n",
    ")\n",
    "model.fit(X_train,y_train)\n",
    "     "
   ]
  },
  {
   "cell_type": "code",
   "execution_count": null,
   "metadata": {},
   "outputs": [],
   "source": [
    " Build your `wrangle` function\n",
    "def wrangle(filpath):\n",
    "    df= pd.read_csv(filpath,encoding=\"latin1\")\n",
    "    mask_ba = df[\"place_with_parent_names\"].str.contains(\"Distrito Federal\")\n",
    "    mask_apt = df[\"property_type\"] == \"apartment\"\n",
    "    mask_price = df[\"price_aprox_usd\"] < 100_000\n",
    "    df = df[mask_ba & mask_apt & mask_price]\n",
    "    # Subset data: Remove outliers for \"surface_covered_in_m2\"\n",
    "    low, high = df[\"surface_covered_in_m2\"].quantile([0.1, 0.9])\n",
    "    mask_area = df[\"surface_covered_in_m2\"].between(low, high)\n",
    "    df = df[mask_area]\n",
    "    # Split \"lat-lon\" column\n",
    "    df[[\"lat\", \"lon\"]] = df[\"lat-lon\"].str.split(\",\", expand=True).astype(float)\n",
    "    df.drop(columns=\"lat-lon\", inplace=True)\n",
    "     # Get place name\n",
    "    df[\"borough\"] = df[\"place_with_parent_names\"].str.split(\"|\", expand=True)[1]\n",
    "    df.drop(columns=\"place_with_parent_names\", inplace=True)\n",
    "     # droping columns which are lots of nullvalue\n",
    "    df.drop(columns = [\"floor\",\"rooms\",\"expenses\",\"surface_total_in_m2\",\"price_usd_per_m2\"],inplace = True)\n",
    "     # droping columns that have either to high or to low cardinality\n",
    "    df.drop(columns =['operation','property_type','currency','properati_url'],inplace = True)\n",
    "      #droping columns that have likage \n",
    "    df.drop(columns =['price', 'price_aprox_local_currency','price_per_m2'],inplace =True)\n",
    "     #droping columns that have multi colinarity\n",
    "     # df.drop(columns =['surface_covered_in_m2'],inplace =True)\n",
    "    df.drop(columns=\"Unnamed: 0\",inplace=True)\n",
    "   \n",
    "    return df"
   ]
  }
 ],
 "metadata": {
  "kernelspec": {
   "display_name": "examm",
   "language": "python",
   "name": "python3"
  },
  "language_info": {
   "codemirror_mode": {
    "name": "ipython",
    "version": 3
   },
   "file_extension": ".py",
   "mimetype": "text/x-python",
   "name": "python",
   "nbconvert_exporter": "python",
   "pygments_lexer": "ipython3",
   "version": "3.11.3"
  },
  "orig_nbformat": 4
 },
 "nbformat": 4,
 "nbformat_minor": 2
}
